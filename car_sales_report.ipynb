{
 "cells": [
  {
   "cell_type": "markdown",
   "id": "ea051178",
   "metadata": {},
   "source": [
    "<h1 style=\"font-size: 3rem; color:Orange;\">Car Sales Analysis</h1>"
   ]
  },
  {
   "cell_type": "markdown",
   "id": "947d197f",
   "metadata": {},
   "source": [
    "# Introduction"
   ]
  },
  {
   "cell_type": "markdown",
   "id": "d5630230",
   "metadata": {},
   "source": [
    "The sample data given contains 2.5 million rows of information on car sales from a dealership, over the course of two years.\n",
    "\n",
    "By analyzing this dataset, I hope to draw out some valuable information which the dealership can use to improve future sales. Advantages that come to mind include understanding customer behaviour, for example which car models are the most popular? What are customers willing to pay for a car? We may be able to identify seasonal trends, we can optimize the dealerships inventory and time sales events accordingly. By gaining insights from the dataset, I hope to find methods the dealership can use to increase thier sales revenue."
   ]
  },
  {
   "cell_type": "markdown",
   "id": "6ca089b7",
   "metadata": {},
   "source": [
    "## Importing libraries"
   ]
  },
  {
   "cell_type": "code",
   "execution_count": 1,
   "id": "0c180c9f",
   "metadata": {},
   "outputs": [],
   "source": [
    "import pandas as pd\n",
    "import numpy as np"
   ]
  },
  {
   "cell_type": "markdown",
   "id": "e6791ee8",
   "metadata": {},
   "source": [
    "## Exploring the dataset"
   ]
  },
  {
   "cell_type": "code",
   "execution_count": 2,
   "id": "9a4b8c3a",
   "metadata": {},
   "outputs": [],
   "source": [
    "ds = pd.read_csv(r\"C:\\Users\\yanik\\OneDrive\\Documents\\Datasets\\car_sales_data.csv\")"
   ]
  },
  {
   "cell_type": "code",
   "execution_count": 3,
   "id": "c392e3da",
   "metadata": {},
   "outputs": [
    {
     "data": {
      "text/plain": [
       "Index(['Date', 'Salesperson', 'Customer Name', 'Car Make', 'Car Model',\n",
       "       'Car Year', 'Sale Price', 'Commission Rate', 'Commission Earned'],\n",
       "      dtype='object')"
      ]
     },
     "execution_count": 3,
     "metadata": {},
     "output_type": "execute_result"
    }
   ],
   "source": [
    "ds.columns"
   ]
  },
  {
   "cell_type": "markdown",
   "id": "528afe02",
   "metadata": {},
   "source": [
    "    Date: The date of the sale\n",
    "    Salesperson: The person who sold the car\n",
    "    Customer Name: The person who bought the car\n",
    "    Car Make: The manufacturer of the car sold\n",
    "    Car Model: The model of the car sold\n",
    "    Car Year: The year of the particular car sold\n",
    "    Sale Price: The amount the car was sold for\n",
    "    Commision Rate: The rate of commision the Salesperson makes from the sale\n",
    "    Commision Earned: How much the Salesperson makes from the sale"
   ]
  },
  {
   "cell_type": "code",
   "execution_count": 4,
   "id": "92fdaf62",
   "metadata": {},
   "outputs": [
    {
     "data": {
      "text/html": [
       "<div>\n",
       "<style scoped>\n",
       "    .dataframe tbody tr th:only-of-type {\n",
       "        vertical-align: middle;\n",
       "    }\n",
       "\n",
       "    .dataframe tbody tr th {\n",
       "        vertical-align: top;\n",
       "    }\n",
       "\n",
       "    .dataframe thead th {\n",
       "        text-align: right;\n",
       "    }\n",
       "</style>\n",
       "<table border=\"1\" class=\"dataframe\">\n",
       "  <thead>\n",
       "    <tr style=\"text-align: right;\">\n",
       "      <th></th>\n",
       "      <th>Date</th>\n",
       "      <th>Salesperson</th>\n",
       "      <th>Customer Name</th>\n",
       "      <th>Car Make</th>\n",
       "      <th>Car Model</th>\n",
       "      <th>Car Year</th>\n",
       "      <th>Sale Price</th>\n",
       "      <th>Commission Rate</th>\n",
       "      <th>Commission Earned</th>\n",
       "    </tr>\n",
       "  </thead>\n",
       "  <tbody>\n",
       "    <tr>\n",
       "      <th>0</th>\n",
       "      <td>2022-08-01</td>\n",
       "      <td>Monica Moore MD</td>\n",
       "      <td>Mary Butler</td>\n",
       "      <td>Nissan</td>\n",
       "      <td>Altima</td>\n",
       "      <td>2018</td>\n",
       "      <td>15983</td>\n",
       "      <td>0.070495</td>\n",
       "      <td>1126.73</td>\n",
       "    </tr>\n",
       "    <tr>\n",
       "      <th>1</th>\n",
       "      <td>2023-03-15</td>\n",
       "      <td>Roberto Rose</td>\n",
       "      <td>Richard Pierce</td>\n",
       "      <td>Nissan</td>\n",
       "      <td>F-150</td>\n",
       "      <td>2016</td>\n",
       "      <td>38474</td>\n",
       "      <td>0.134439</td>\n",
       "      <td>5172.40</td>\n",
       "    </tr>\n",
       "    <tr>\n",
       "      <th>2</th>\n",
       "      <td>2023-04-29</td>\n",
       "      <td>Ashley Ramos</td>\n",
       "      <td>Sandra Moore</td>\n",
       "      <td>Ford</td>\n",
       "      <td>Civic</td>\n",
       "      <td>2016</td>\n",
       "      <td>33340</td>\n",
       "      <td>0.114536</td>\n",
       "      <td>3818.63</td>\n",
       "    </tr>\n",
       "    <tr>\n",
       "      <th>3</th>\n",
       "      <td>2022-09-04</td>\n",
       "      <td>Patrick Harris</td>\n",
       "      <td>Johnny Scott</td>\n",
       "      <td>Ford</td>\n",
       "      <td>Altima</td>\n",
       "      <td>2013</td>\n",
       "      <td>41937</td>\n",
       "      <td>0.092191</td>\n",
       "      <td>3866.20</td>\n",
       "    </tr>\n",
       "    <tr>\n",
       "      <th>4</th>\n",
       "      <td>2022-06-16</td>\n",
       "      <td>Eric Lopez</td>\n",
       "      <td>Vanessa Jones</td>\n",
       "      <td>Honda</td>\n",
       "      <td>Silverado</td>\n",
       "      <td>2022</td>\n",
       "      <td>20256</td>\n",
       "      <td>0.113490</td>\n",
       "      <td>2298.85</td>\n",
       "    </tr>\n",
       "  </tbody>\n",
       "</table>\n",
       "</div>"
      ],
      "text/plain": [
       "         Date      Salesperson   Customer Name Car Make  Car Model  Car Year  \\\n",
       "0  2022-08-01  Monica Moore MD     Mary Butler   Nissan     Altima      2018   \n",
       "1  2023-03-15     Roberto Rose  Richard Pierce   Nissan      F-150      2016   \n",
       "2  2023-04-29     Ashley Ramos    Sandra Moore     Ford      Civic      2016   \n",
       "3  2022-09-04   Patrick Harris    Johnny Scott     Ford     Altima      2013   \n",
       "4  2022-06-16       Eric Lopez   Vanessa Jones    Honda  Silverado      2022   \n",
       "\n",
       "   Sale Price  Commission Rate  Commission Earned  \n",
       "0       15983         0.070495            1126.73  \n",
       "1       38474         0.134439            5172.40  \n",
       "2       33340         0.114536            3818.63  \n",
       "3       41937         0.092191            3866.20  \n",
       "4       20256         0.113490            2298.85  "
      ]
     },
     "execution_count": 4,
     "metadata": {},
     "output_type": "execute_result"
    }
   ],
   "source": [
    "ds.head()"
   ]
  },
  {
   "cell_type": "code",
   "execution_count": 5,
   "id": "c3eff805",
   "metadata": {
    "scrolled": true
   },
   "outputs": [
    {
     "data": {
      "text/html": [
       "<div>\n",
       "<style scoped>\n",
       "    .dataframe tbody tr th:only-of-type {\n",
       "        vertical-align: middle;\n",
       "    }\n",
       "\n",
       "    .dataframe tbody tr th {\n",
       "        vertical-align: top;\n",
       "    }\n",
       "\n",
       "    .dataframe thead th {\n",
       "        text-align: right;\n",
       "    }\n",
       "</style>\n",
       "<table border=\"1\" class=\"dataframe\">\n",
       "  <thead>\n",
       "    <tr style=\"text-align: right;\">\n",
       "      <th></th>\n",
       "      <th>Date</th>\n",
       "      <th>Salesperson</th>\n",
       "      <th>Customer Name</th>\n",
       "      <th>Car Make</th>\n",
       "      <th>Car Model</th>\n",
       "      <th>Car Year</th>\n",
       "      <th>Sale Price</th>\n",
       "      <th>Commission Rate</th>\n",
       "      <th>Commission Earned</th>\n",
       "    </tr>\n",
       "  </thead>\n",
       "  <tbody>\n",
       "    <tr>\n",
       "      <th>2499995</th>\n",
       "      <td>2022-05-26</td>\n",
       "      <td>Isabella Moore</td>\n",
       "      <td>Shirley Lee</td>\n",
       "      <td>Chevrolet</td>\n",
       "      <td>Silverado</td>\n",
       "      <td>2021</td>\n",
       "      <td>49823</td>\n",
       "      <td>0.062977</td>\n",
       "      <td>3137.70</td>\n",
       "    </tr>\n",
       "    <tr>\n",
       "      <th>2499996</th>\n",
       "      <td>2022-10-03</td>\n",
       "      <td>Kimberly Snow</td>\n",
       "      <td>Tara Rodgers</td>\n",
       "      <td>Ford</td>\n",
       "      <td>F-150</td>\n",
       "      <td>2022</td>\n",
       "      <td>18803</td>\n",
       "      <td>0.068339</td>\n",
       "      <td>1284.97</td>\n",
       "    </tr>\n",
       "    <tr>\n",
       "      <th>2499997</th>\n",
       "      <td>2022-06-07</td>\n",
       "      <td>Jessica Young</td>\n",
       "      <td>Jennifer Moore</td>\n",
       "      <td>Chevrolet</td>\n",
       "      <td>Civic</td>\n",
       "      <td>2010</td>\n",
       "      <td>30863</td>\n",
       "      <td>0.088915</td>\n",
       "      <td>2744.19</td>\n",
       "    </tr>\n",
       "    <tr>\n",
       "      <th>2499998</th>\n",
       "      <td>2023-02-15</td>\n",
       "      <td>Donald Barber</td>\n",
       "      <td>Ashley Diaz</td>\n",
       "      <td>Honda</td>\n",
       "      <td>Silverado</td>\n",
       "      <td>2014</td>\n",
       "      <td>26125</td>\n",
       "      <td>0.088260</td>\n",
       "      <td>2305.80</td>\n",
       "    </tr>\n",
       "    <tr>\n",
       "      <th>2499999</th>\n",
       "      <td>2023-03-24</td>\n",
       "      <td>Kayla Fowler</td>\n",
       "      <td>Nathan Thompson</td>\n",
       "      <td>Honda</td>\n",
       "      <td>Civic</td>\n",
       "      <td>2010</td>\n",
       "      <td>20762</td>\n",
       "      <td>0.137105</td>\n",
       "      <td>2846.57</td>\n",
       "    </tr>\n",
       "  </tbody>\n",
       "</table>\n",
       "</div>"
      ],
      "text/plain": [
       "               Date     Salesperson    Customer Name   Car Make  Car Model  \\\n",
       "2499995  2022-05-26  Isabella Moore      Shirley Lee  Chevrolet  Silverado   \n",
       "2499996  2022-10-03   Kimberly Snow     Tara Rodgers       Ford      F-150   \n",
       "2499997  2022-06-07   Jessica Young   Jennifer Moore  Chevrolet      Civic   \n",
       "2499998  2023-02-15   Donald Barber      Ashley Diaz      Honda  Silverado   \n",
       "2499999  2023-03-24    Kayla Fowler  Nathan Thompson      Honda      Civic   \n",
       "\n",
       "         Car Year  Sale Price  Commission Rate  Commission Earned  \n",
       "2499995      2021       49823         0.062977            3137.70  \n",
       "2499996      2022       18803         0.068339            1284.97  \n",
       "2499997      2010       30863         0.088915            2744.19  \n",
       "2499998      2014       26125         0.088260            2305.80  \n",
       "2499999      2010       20762         0.137105            2846.57  "
      ]
     },
     "execution_count": 5,
     "metadata": {},
     "output_type": "execute_result"
    }
   ],
   "source": [
    "ds.tail()"
   ]
  },
  {
   "cell_type": "markdown",
   "id": "378547db",
   "metadata": {},
   "source": [
    "## Cleaning and preparing the data"
   ]
  },
  {
   "cell_type": "markdown",
   "id": "eef0762e",
   "metadata": {},
   "source": [
    "## Removing Duplicates"
   ]
  },
  {
   "cell_type": "code",
   "execution_count": 7,
   "id": "be26de12",
   "metadata": {},
   "outputs": [],
   "source": [
    "# Drop duplicate rows based on all columns\n",
    "ds = ds.drop_duplicates()"
   ]
  },
  {
   "cell_type": "markdown",
   "id": "e3a1d3cf",
   "metadata": {},
   "source": [
    "## Handling missing values"
   ]
  },
  {
   "cell_type": "code",
   "execution_count": 8,
   "id": "5521f882",
   "metadata": {},
   "outputs": [
    {
     "name": "stdout",
     "output_type": "stream",
     "text": [
      "Missing values:\n",
      " Date                 0\n",
      "Salesperson          0\n",
      "Customer Name        0\n",
      "Car Make             0\n",
      "Car Model            0\n",
      "Car Year             0\n",
      "Sale Price           0\n",
      "Commission Rate      0\n",
      "Commission Earned    0\n",
      "dtype: int64\n"
     ]
    }
   ],
   "source": [
    "# Check for missing values\n",
    "print('Missing values:\\n', ds.isnull().sum())"
   ]
  },
  {
   "cell_type": "markdown",
   "id": "03713559",
   "metadata": {},
   "source": [
    "## Correcting Formats"
   ]
  },
  {
   "cell_type": "code",
   "execution_count": 11,
   "id": "b32fe87e",
   "metadata": {},
   "outputs": [],
   "source": [
    "# Convert date column to a datetime format\n",
    "ds['Date'] = pd.to_datetime(ds['Date'])"
   ]
  },
  {
   "cell_type": "markdown",
   "id": "90aa8b93",
   "metadata": {},
   "source": [
    "## Validating Data "
   ]
  },
  {
   "cell_type": "code",
   "execution_count": 19,
   "id": "c686a399",
   "metadata": {},
   "outputs": [],
   "source": [
    "# Check that each numeric column does not contain negative values\n",
    "for column in ds.columns[1:]:\n",
    "    if (ds[column].dtype == 'int64'):\n",
    "        if (ds[column] < 0).any():\n",
    "            print(f\"Column '{column}' contains negative values\")"
   ]
  },
  {
   "cell_type": "markdown",
   "id": "7ae0a129",
   "metadata": {},
   "source": [
    "# Analysis"
   ]
  },
  {
   "cell_type": "code",
   "execution_count": 21,
   "id": "56bd7f01",
   "metadata": {
    "scrolled": true
   },
   "outputs": [
    {
     "name": "stdout",
     "output_type": "stream",
     "text": [
      "Variable ranges:\n",
      "            Car Year    Sale Price  Commission Rate  Commission Earned\n",
      "count  2.500000e+06  2.500000e+06     2.500000e+06       2.500000e+06\n",
      "mean   2.015996e+03  3.001218e+04     9.998766e-02       3.001005e+03\n",
      "std    3.739132e+00  1.154514e+04     2.887202e-02       1.481467e+03\n",
      "min    2.010000e+03  1.000000e+04     5.000014e-02       5.013400e+02\n",
      "25%    2.013000e+03  2.001900e+04     7.496450e-02       1.821710e+03\n",
      "50%    2.016000e+03  3.000600e+04     1.000058e-01       2.741910e+03\n",
      "75%    2.019000e+03  4.002200e+04     1.250065e-01       3.978142e+03\n",
      "max    2.022000e+03  5.000000e+04     1.500000e-01       7.494530e+03\n"
     ]
    }
   ],
   "source": [
    "# Check the range of values for each variable\n",
    "print('Variable ranges:\\n', ds.describe())"
   ]
  },
  {
   "cell_type": "markdown",
   "id": "9f0a8663",
   "metadata": {},
   "source": [
    "The mean car year is 2016, while the mean car sale price is __$30012.18__.\n",
    "\n",
    "Car sales prices deviate $11545.14 indicating __car sales price can vary egregiously__.\n",
    "\n",
    "Average commision rate for cars sold is roughly __10%__, the lowest being 5%, highest 15%.\n",
    "\n",
    "Salespeople make __$3001.00__ on average a car sold, the highest any salesperson has made off a sale has been __7494.53.__"
   ]
  },
  {
   "cell_type": "code",
   "execution_count": 24,
   "id": "b2e6269c",
   "metadata": {},
   "outputs": [
    {
     "name": "stdout",
     "output_type": "stream",
     "text": [
      "Unique Car Makes: \n",
      " ['Nissan' 'Ford' 'Honda' 'Toyota' 'Chevrolet']\n",
      "Unique Car Models: \n",
      " ['Altima' 'F-150' 'Civic' 'Silverado' 'Corolla']\n"
     ]
    }
   ],
   "source": [
    "unique_car_makes = ds['Car Make'].unique()\n",
    "unique_car_models = ds['Car Model'].unique()\n",
    "\n",
    "print(\"Unique Car Makes: \\n\", unique_car_makes)\n",
    "print(\"Unique Car Models: \\n\", unique_car_models)"
   ]
  },
  {
   "cell_type": "code",
   "execution_count": 55,
   "id": "c8c16337",
   "metadata": {},
   "outputs": [
    {
     "data": {
      "image/png": "[encoded data removed]",
      "text/plain": [
       "<Figure size 640x480 with 1 Axes>"
      ]
     },
     "metadata": {},
     "output_type": "display_data"
    },
    {
     "name": "stdout",
     "output_type": "stream",
     "text": [
      "The month with the most sold cars is May\n",
      "The month with the least sold cars is February\n"
     ]
    }
   ],
   "source": [
    "import calendar\n",
    "import matplotlib.pyplot as plt\n",
    "\n",
    "# Create a new column for the month\n",
    "ds['Month'] = ds['Date'].dt.month\n",
    "\n",
    "# Group the dataframe by month and count the number of sales\n",
    "month_counts = ds.groupby('Month')['Car Make'].count()\n",
    "\n",
    "# Find the month with the maximum number of sales\n",
    "max_month = month_counts.idxmax()\n",
    "\n",
    "# Find the month with the minimum number of sales\n",
    "min_month = month_counts.idxmin()\n",
    "\n",
    "# Convert the month_counts series to a dataframe and add a 'Month' column\n",
    "month_counts_ds = month_counts.to_frame().reset_index()\n",
    "\n",
    "# Create a bar chart of the number of sales for each month\n",
    "plt.bar(month_counts_ds['Month'], month_counts_ds['Car Make'])\n",
    "\n",
    "# Set the title and axis labels\n",
    "plt.title('Number of cars sold by month')\n",
    "plt.xlabel('Month')\n",
    "plt.ylabel('Number of cars sold')\n",
    "\n",
    "# Set the x-axis tick labels to display every month\n",
    "plt.xticks(month_counts_ds['Month'][::1])\n",
    "\n",
    "# Display the chart\n",
    "plt.show()\n",
    "\n",
    "print('The month with the most sold cars is', calendar.month_name[max_month])\n",
    "print('The month with the least sold cars is', calendar.month_name[min_month])"
   ]
  },
  {
   "cell_type": "code",
   "execution_count": 61,
   "id": "26a3f74b",
   "metadata": {},
   "outputs": [
    {
     "name": "stdout",
     "output_type": "stream",
     "text": [
      "Michael Smith      1229\n",
      "Michael Johnson     976\n",
      "David Smith         821\n",
      "James Smith         796\n",
      "Jennifer Smith      753\n",
      "Name: Salesperson, dtype: int64\n"
     ]
    }
   ],
   "source": [
    "top_salespersons = ds['Salesperson'].value_counts().head(5)\n",
    "print(top_salespersons)"
   ]
  },
  {
   "cell_type": "code",
   "execution_count": 68,
   "id": "e067cd5a",
   "metadata": {},
   "outputs": [
    {
     "name": "stdout",
     "output_type": "stream",
     "text": [
      "Michael Smith earned a commission of $ 3658467.56\n",
      "Michael Johnson earned a commission of $ 2883629.29\n",
      "David Smith earned a commission of $ 2456566.33\n",
      "James Smith earned a commission of $ 2448405.59\n",
      "Robert Smith earned a commission of $ 2275950.52\n"
     ]
    }
   ],
   "source": [
    "# Group the dataframe by salesperson and sum the commission earned\n",
    "salesperson_commission = ds.groupby('Salesperson')['Commission Earned'].sum()\n",
    "\n",
    "# Sort the salespeople by commission earned in descending order\n",
    "sorted_salespeople = salesperson_commission.sort_values(ascending=False)\n",
    "\n",
    "# Select the top 5 salespeople by commission earned\n",
    "top_5_salespeople = sorted_salespeople.head(5)\n",
    "\n",
    "# Display the commission earned by each of the top 5 salespeople\n",
    "for salesperson, commission in top_5_salespeople.items():\n",
    "    print(salesperson, \"earned a commission of $\", commission)"
   ]
  },
  {
   "cell_type": "code",
   "execution_count": 63,
   "id": "ed8b99c9",
   "metadata": {},
   "outputs": [
    {
     "name": "stdout",
     "output_type": "stream",
     "text": [
      "The most sold car make is: Honda\n"
     ]
    }
   ],
   "source": [
    "most_sold_car_make = ds['Car Make'].value_counts().idxmax()\n",
    "print(\"The most sold car make is:\", most_sold_car_make)"
   ]
  },
  {
   "cell_type": "code",
   "execution_count": 64,
   "id": "d86e51a9",
   "metadata": {},
   "outputs": [
    {
     "name": "stdout",
     "output_type": "stream",
     "text": [
      "The most sold car model is: Silverado\n"
     ]
    }
   ],
   "source": [
    "most_sold_car_model = ds['Car Model'].value_counts().idxmax()\n",
    "print(\"The most sold car model is:\", most_sold_car_model)"
   ]
  },
  {
   "cell_type": "code",
   "execution_count": 69,
   "id": "c41e065c",
   "metadata": {},
   "outputs": [
    {
     "name": "stdout",
     "output_type": "stream",
     "text": [
      "The least sold car make is: Nissan\n"
     ]
    }
   ],
   "source": [
    "least_sold_car_make = ds['Car Make'].value_counts().idxmin()\n",
    "print(\"The least sold car make is:\", least_sold_car_make)"
   ]
  },
  {
   "cell_type": "code",
   "execution_count": 70,
   "id": "11810aa1",
   "metadata": {},
   "outputs": [
    {
     "name": "stdout",
     "output_type": "stream",
     "text": [
      "The least sold car model is: Altima\n"
     ]
    }
   ],
   "source": [
    "least_sold_car_model = ds['Car Model'].value_counts().idxmin()\n",
    "print(\"The least sold car model is:\", least_sold_car_model)"
   ]
  },
  {
   "cell_type": "code",
   "execution_count": 74,
   "id": "575f9863",
   "metadata": {},
   "outputs": [
    {
     "name": "stdout",
     "output_type": "stream",
     "text": [
      "Car Make\n",
      "Chevrolet    500455\n",
      "Ford         499781\n",
      "Honda        500687\n",
      "Nissan       498930\n",
      "Toyota       500147\n",
      "dtype: int64\n"
     ]
    }
   ],
   "source": [
    "# Group the dataframe by car make and count the number of sales for each make\n",
    "sales_by_make = ds.groupby('Car Make').size()\n",
    "\n",
    "print(sales_by_make)"
   ]
  },
  {
   "cell_type": "code",
   "execution_count": 75,
   "id": "9cfa08a5",
   "metadata": {},
   "outputs": [
    {
     "name": "stdout",
     "output_type": "stream",
     "text": [
      "Car Model\n",
      "Altima       498819\n",
      "Civic        500498\n",
      "Corolla      500162\n",
      "F-150        499679\n",
      "Silverado    500842\n",
      "dtype: int64\n"
     ]
    }
   ],
   "source": [
    "# Group the dataframe by car model and count the number of sales for each model\n",
    "sales_by_model = ds.groupby('Car Model').size()\n",
    "\n",
    "print(sales_by_model)"
   ]
  },
  {
   "cell_type": "markdown",
   "id": "d5b1fa62",
   "metadata": {},
   "source": [
    "# Commission Analysis"
   ]
  },
  {
   "cell_type": "code",
   "execution_count": 78,
   "id": "8bfa6f23",
   "metadata": {},
   "outputs": [
    {
     "name": "stdout",
     "output_type": "stream",
     "text": [
      "count    2.500000e+06\n",
      "mean     9.998766e-02\n",
      "std      2.887202e-02\n",
      "min      5.000014e-02\n",
      "25%      7.496450e-02\n",
      "50%      1.000058e-01\n",
      "75%      1.250065e-01\n",
      "max      1.500000e-01\n",
      "Name: Commission Rate, dtype: float64\n"
     ]
    }
   ],
   "source": [
    "# Calculate the commission rate distribution\n",
    "commission_rate_distribution = ds['Commission Rate'].describe()\n",
    "\n",
    "# Print the commission rate distribution\n",
    "print(commission_rate_distribution)"
   ]
  },
  {
   "cell_type": "code",
   "execution_count": 88,
   "id": "e351c7ef",
   "metadata": {},
   "outputs": [
    {
     "data": {
      "image/png": "[encoded data removed]",
      "text/plain": [
       "<Figure size 640x480 with 1 Axes>"
      ]
     },
     "metadata": {},
     "output_type": "display_data"
    }
   ],
   "source": [
    "# Create a density plot of the commission rate distribution\n",
    "ds['Commission Rate'].plot(kind='density')\n",
    "plt.xlabel('Commission Rate')\n",
    "plt.title('Commission Rate Distribution')\n",
    "plt.show()"
   ]
  },
  {
   "cell_type": "markdown",
   "id": "393dec04",
   "metadata": {},
   "source": [
    "The resulting density plot graph shows commision rates are uniformly distributed among sales people."
   ]
  },
  {
   "cell_type": "markdown",
   "id": "2c471678",
   "metadata": {},
   "source": [
    "# Correlation Matrix"
   ]
  },
  {
   "cell_type": "code",
   "execution_count": 94,
   "id": "c52ffa87",
   "metadata": {
    "scrolled": true
   },
   "outputs": [
    {
     "data": {
      "image/png": "[encoded data removed]",
      "text/plain": [
       "<Figure size 1000x800 with 2 Axes>"
      ]
     },
     "metadata": {},
     "output_type": "display_data"
    }
   ],
   "source": [
    "plt.figure(figsize=(10, 8))\n",
    "sns.heatmap(ds.corr(), annot=True, cmap='coolwarm')\n",
    "plt.show()"
   ]
  },
  {
   "cell_type": "markdown",
   "id": "82aea572",
   "metadata": {},
   "source": [
    "The correllation matrix suggests:\n",
    "\n",
    "    - The Sale Price of a car, Commision Earned and Rate are weakly negatively correlated with the year of the car, however  \n",
    "    since the value is so little, they're basically not correlated\n",
    "    \n",
    "    - As expected, the Sale Price, and Commission Earned are highly correlated, the more expensive a car sold, the more a \n",
    "    salesperson ends up making\n",
    "    \n",
    "    - The Commision Rate and Commision Earned are moderatly correlated. The higher the Commision Rate, the more the \n",
    "    Salesperson Earns.\n",
    "   \n",
    "    - The Commision Rate and Sale Price are basically not correlated."
   ]
  },
  {
   "cell_type": "markdown",
   "id": "c4cdf8eb",
   "metadata": {},
   "source": [
    "## Is there a discrepancy in commision rates? \n",
    "### Do the more succesful salespeople have higher commision rates than the less succesful?"
   ]
  },
  {
   "cell_type": "code",
   "execution_count": 103,
   "id": "0af61fe3",
   "metadata": {},
   "outputs": [
    {
     "name": "stdout",
     "output_type": "stream",
     "text": [
      "First Quarter Mean Commission Rate: 8%\n",
      "Quarter to Half Mean Commission Rate: 9%\n",
      "Half to Third Quarter Mean Commission Rate: 10%\n",
      "Third Quarter to Top Mean Commission Rate: 12%\n"
     ]
    }
   ],
   "source": [
    "commission_earned = ds['Commission Earned']\n",
    "\n",
    "# Create four evenly spaced percentiles\n",
    "percentiles = np.percentile(commission_earned, [25, 50, 75])\n",
    "\n",
    "# Assign each row to one of the four percentiles\n",
    "ds['Commission Percentile'] = pd.cut(commission_earned, bins=[0] + list(percentiles) + [max(commission_earned)])\n",
    "\n",
    "\n",
    "# Calculate the mean commission rate for each Commission Percentile group\n",
    "commission_rate_by_percentile = ds.groupby('Commission Percentile')['Commission Rate'].mean()\n",
    "\n",
    "# Select the percentiles\n",
    "quarter_percentile = commission_rate_by_percentile.iloc[0:1]\n",
    "half_percentile = commission_rate_by_percentile.iloc[1:2]\n",
    "third_quarter_percentile = commission_rate_by_percentile.iloc[2:3]\n",
    "full_percentile = commission_rate_by_percentile.iloc[3:4]\n",
    "\n",
    "# Calculate the average commission rate for each group\n",
    "quarter_mean_commission_rate = quarter_percentile.mean()\n",
    "half_mean_commission_rate = half_percentile.mean()\n",
    "third_quarter_mean_commission_rate = third_quarter_percentile.mean()\n",
    "full_mean_commission_rate = full_percentile.mean()\n",
    "\n",
    "# Print the results\n",
    "print(f\"First Quarter Mean Commission Rate: {round(quarter_mean_commission_rate * 100)}%\")\n",
    "print(f\"Quarter to Half Mean Commission Rate: {round(half_mean_commission_rate  * 100)}%\")\n",
    "print(f\"Half to Third Quarter Mean Commission Rate: {round(third_quarter_mean_commission_rate  * 100)}%\")\n",
    "print(f\"Third Quarter to Top Mean Commission Rate: {round(full_mean_commission_rate  * 100)}%\")"
   ]
  },
  {
   "cell_type": "markdown",
   "id": "d60ef40f",
   "metadata": {},
   "source": [
    "The Data suggests that __the more succesful salespeople have a higher commision rate than the less succesful ones__."
   ]
  },
  {
   "cell_type": "markdown",
   "id": "6e42e0c7",
   "metadata": {},
   "source": [
    "## Are certain car models inclined to sell for more than others?"
   ]
  },
  {
   "cell_type": "code",
   "execution_count": 108,
   "id": "fa849558",
   "metadata": {},
   "outputs": [
    {
     "name": "stdout",
     "output_type": "stream",
     "text": [
      "Car Model\n",
      "Corolla      3003.309835\n",
      "Altima       3002.709561\n",
      "Silverado    3002.219432\n",
      "Civic        2998.917742\n",
      "F-150        2997.871415\n",
      "Name: Commission Earned, dtype: float64\n"
     ]
    }
   ],
   "source": [
    "model_commission = ds.groupby('Car Model')['Commission Earned'].mean().sort_values(ascending=False)\n",
    "print(model_commission)"
   ]
  },
  {
   "cell_type": "markdown",
   "id": "81a7745e",
   "metadata": {},
   "source": [
    "Evidently Corollas sell for the most at __$3003,31__ on average, while F-150 sells for the least at __2997,87__. "
   ]
  },
  {
   "cell_type": "markdown",
   "id": "391f74d9",
   "metadata": {},
   "source": [
    "## How about certain car makes?"
   ]
  },
  {
   "cell_type": "code",
   "execution_count": 109,
   "id": "2aeeb566",
   "metadata": {},
   "outputs": [
    {
     "name": "stdout",
     "output_type": "stream",
     "text": [
      "Car Make\n",
      "Honda        3003.292195\n",
      "Chevrolet    3001.865313\n",
      "Toyota       3000.921184\n",
      "Nissan       3000.193334\n",
      "Ford         2998.748033\n",
      "Name: Commission Earned, dtype: float64\n"
     ]
    }
   ],
   "source": [
    "makes_commission = ds.groupby('Car Make')['Commission Earned'].mean().sort_values(ascending=False)\n",
    "print(makes_commission)"
   ]
  },
  {
   "cell_type": "markdown",
   "id": "1490be57",
   "metadata": {},
   "source": [
    "Evidently Hondas sell for the most at __$3003,29__ on average, while Ford sells for the least at __2998,74__. "
   ]
  },
  {
   "cell_type": "markdown",
   "id": "ba2b92bc",
   "metadata": {},
   "source": [
    "## Do newer cars sell for more?"
   ]
  },
  {
   "cell_type": "code",
   "execution_count": 114,
   "id": "8f93d7b0",
   "metadata": {},
   "outputs": [
    {
     "name": "stdout",
     "output_type": "stream",
     "text": [
      "-0.0006665070424949082\n"
     ]
    }
   ],
   "source": [
    "nc_corr = ds['Car Year'].corr(ds['Sale Price'])\n",
    "print(nc_corr)"
   ]
  },
  {
   "cell_type": "markdown",
   "id": "aeb9c57b",
   "metadata": {},
   "source": [
    "There is no significant correlation between the car's age and how much it sells for."
   ]
  },
  {
   "cell_type": "markdown",
   "id": "ff72b674",
   "metadata": {},
   "source": [
    "# Conclusion"
   ]
  },
  {
   "cell_type": "markdown",
   "id": "bd9795d5",
   "metadata": {},
   "source": [
    "By analyzing this dataset, I have found a few interesting insights which the dealership may use to improve their operations.\n",
    "Some of these key findings include:\n",
    "    \n",
    "* The average car sale price is __$30012.18__ and the average commissioned earned is __3001.00__\n",
    "* The Car __Models__ that __sells for highest are the Corolla, Altima and Silverado__ (in order).\n",
    "* The Car __Makes__ that __sells for the highest are Hondas, Chevrolets and Toyotas__ (in order).\n",
    "* Car sales were __highest in May__ and __lowest in February__\n",
    "* The top 5 Salespeople are __Michael Smith, Michael Johnson, David Smith, James Smith, and Jennifer Smith__\n",
    "* The Sales Price and Commission Earned are highly correlated, the more expensive a car sold, \n",
    "    the more a salesperson ends up making\n",
    "* There is __no correlation between a car's age and how much it sells for__\n",
    "* The most sold car makes are __Hondas, least sold are Nissans__\n",
    "* The most sold car model are __Silverados, least sold are Altimas__\n",
    "    "
   ]
  },
  {
   "cell_type": "code",
   "execution_count": null,
   "id": "69c547e0",
   "metadata": {},
   "outputs": [],
   "source": []
  }
 ],
 "metadata": {
  "kernelspec": {
   "display_name": "Python 3 (ipykernel)",
   "language": "python",
   "name": "python3"
  },
  "language_info": {
   "codemirror_mode": {
    "name": "ipython",
    "version": 3
   },
   "file_extension": ".py",
   "mimetype": "text/x-python",
   "name": "python",
   "nbconvert_exporter": "python",
   "pygments_lexer": "ipython3",
   "version": "3.9.13"
  }
 },
 "nbformat": 4,
 "nbformat_minor": 5
}
